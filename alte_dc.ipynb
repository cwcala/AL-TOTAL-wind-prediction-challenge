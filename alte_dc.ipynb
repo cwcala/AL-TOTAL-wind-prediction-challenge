{
 "cells": [
  {
   "cell_type": "code",
   "execution_count": 2,
   "id": "2c50788c",
   "metadata": {},
   "outputs": [],
   "source": [
    "import pandas as pd\n",
    "import numpy as np\n",
    "import matplotlib.pyplot as plt\n",
    "import math\n",
    "from statsmodels.tsa.seasonal import seasonal_decompose\n",
    "# our python file with functions\n",
    "import altedc as altedc"
   ]
  },
  {
   "cell_type": "code",
   "execution_count": 3,
   "id": "91a6e389",
   "metadata": {},
   "outputs": [],
   "source": [
    "data_path = 'data/'\n",
    "data = pd.read_csv(f'{data_path}train_phase_1.csv')\n",
    "data.date = pd.to_datetime(data.date, format='%Y-%m-%d %H:%M:%S')\n",
    "test = pd.read_csv(f'{data_path}test_phase_1.csv')\n",
    "test.date = pd.to_datetime(test.date, format='%Y-%m-%d %H:%M:%S')"
   ]
  },
  {
   "cell_type": "code",
   "execution_count": 4,
   "id": "367f29f1",
   "metadata": {},
   "outputs": [
    {
     "data": {
      "text/plain": [
       "((18756, 6), (7488, 5))"
      ]
     },
     "execution_count": 4,
     "metadata": {},
     "output_type": "execute_result"
    }
   ],
   "source": [
    "data.shape, test.shape"
   ]
  },
  {
   "cell_type": "code",
   "execution_count": 5,
   "id": "dd6216ca",
   "metadata": {},
   "outputs": [],
   "source": [
    "assert data.dtypes.equals(pd.Series({\n",
    "    'date': 'datetime64[ns]', \n",
    "    'wp1': 'float64', \n",
    "    'u': 'float64', \n",
    "    'v': 'float64', \n",
    "    'ws': 'float64', \n",
    "    'wd': 'float64',\n",
    "}))\n",
    "\n",
    "assert test.dtypes.equals(pd.Series({\n",
    "    'date': 'datetime64[ns]', \n",
    "    'u': 'float64', \n",
    "    'v': 'float64', \n",
    "    'ws': 'float64', \n",
    "    'wd': 'float64',\n",
    "}))"
   ]
  },
  {
   "cell_type": "code",
   "execution_count": 6,
   "id": "1863f1ef",
   "metadata": {},
   "outputs": [],
   "source": [
    "assert not data.isnull().any(axis=None) and not test.isnull().any(axis=None)"
   ]
  },
  {
   "cell_type": "code",
   "execution_count": 7,
   "id": "8d99d780",
   "metadata": {},
   "outputs": [],
   "source": [
    "from sklearn.linear_model import LinearRegression\n",
    "from sklearn.metrics import mean_absolute_error\n",
    "from sklearn.model_selection import train_test_split"
   ]
  },
  {
   "cell_type": "code",
   "execution_count": 8,
   "id": "95e7dbcb",
   "metadata": {},
   "outputs": [
    {
     "name": "stdout",
     "output_type": "stream",
     "text": [
      "(15004, 6) (3752, 6)\n"
     ]
    }
   ],
   "source": [
    "train, val = train_test_split(data, test_size=0.2, shuffle=True)\n",
    "print(train.shape, val.shape)"
   ]
  },
  {
   "cell_type": "code",
   "execution_count": 9,
   "id": "43f5b05c",
   "metadata": {},
   "outputs": [
    {
     "data": {
      "text/plain": [
       "0.13213274499971295"
      ]
     },
     "execution_count": 9,
     "metadata": {},
     "output_type": "execute_result"
    }
   ],
   "source": [
    "X_train = train['ws'].values.reshape((-1, 1))\n",
    "y_train = train['wp1'].values\n",
    "\n",
    "X_val = val['ws'].values.reshape((-1, 1))\n",
    "y_val = val['wp1'].values\n",
    "\n",
    "lm = LinearRegression()\n",
    "lm.fit(X_train, y_train)\n",
    "mean_absolute_error(lm.predict(X_val), y_val)"
   ]
  },
  {
   "cell_type": "code",
   "execution_count": 10,
   "id": "ee6253cc",
   "metadata": {},
   "outputs": [
    {
     "name": "stdout",
     "output_type": "stream",
     "text": [
      "0.200902640319369\n",
      "0.19495255863539446\n"
     ]
    }
   ],
   "source": [
    "from sklearn.dummy import DummyRegressor\n",
    "dm = DummyRegressor(strategy='mean')\n",
    "dm.fit(X_train, y_train)\n",
    "print(mean_absolute_error(dm.predict(X_val), y_val))\n",
    "\n",
    "dm = DummyRegressor(strategy='median')\n",
    "dm.fit(X_train, y_train)\n",
    "print(mean_absolute_error(dm.predict(X_val), y_val))"
   ]
  },
  {
   "cell_type": "code",
   "execution_count": 11,
   "id": "2d8dffa8",
   "metadata": {},
   "outputs": [
    {
     "name": "stdout",
     "output_type": "stream",
     "text": [
      "0.1290526935856432\n"
     ]
    }
   ],
   "source": [
    "from sklearn.ensemble import RandomForestRegressor\n",
    "X_train = train[['ws', 'wd', 'u', 'v']].values\n",
    "y_train = train['wp1'].values\n",
    "\n",
    "X_val = val[['ws', 'wd', 'u', 'v']].values\n",
    "y_val = val['wp1'].values\n",
    "\n",
    "rf = RandomForestRegressor(n_jobs=-1)\n",
    "rf.fit(X_train, y_train)\n",
    "print(mean_absolute_error(rf.predict(X_val), y_val))"
   ]
  },
  {
   "cell_type": "code",
   "execution_count": 12,
   "id": "75b951bc",
   "metadata": {},
   "outputs": [
    {
     "name": "stderr",
     "output_type": "stream",
     "text": [
      "/home/ec2-user/SageMaker/git/data_challenge/Data-Challenge-Starter-Kit/altedc.py:66: FutureWarning: Series.dt.weekofyear and Series.dt.week have been deprecated.  Please use Series.dt.isocalendar().week instead.\n",
      "  df_copy['wk']=df_copy.date.dt.week\n",
      "/home/ec2-user/SageMaker/git/data_challenge/Data-Challenge-Starter-Kit/altedc.py:130: FutureWarning: Series.dt.weekofyear and Series.dt.week have been deprecated.  Please use Series.dt.isocalendar().week instead.\n",
      "  wavh_copy=df_copy.groupby([df_copy['date'].dt.week])['vh'].mean().to_dict()\n",
      "/home/ec2-user/SageMaker/git/data_challenge/Data-Challenge-Starter-Kit/altedc.py:131: FutureWarning: Series.dt.weekofyear and Series.dt.week have been deprecated.  Please use Series.dt.isocalendar().week instead.\n",
      "  df_copy['wavh']=df_copy['date'].dt.week.replace(wavh_copy)\n",
      "/home/ec2-user/SageMaker/git/data_challenge/Data-Challenge-Starter-Kit/altedc.py:138: FutureWarning: Series.dt.weekofyear and Series.dt.week have been deprecated.  Please use Series.dt.isocalendar().week instead.\n",
      "  waws_copy=df_copy.groupby([df_copy['date'].dt.week])['ws'].mean().to_dict()\n",
      "/home/ec2-user/SageMaker/git/data_challenge/Data-Challenge-Starter-Kit/altedc.py:139: FutureWarning: Series.dt.weekofyear and Series.dt.week have been deprecated.  Please use Series.dt.isocalendar().week instead.\n",
      "  df_copy['waws']=df_copy['date'].dt.week.replace(waws_copy)\n",
      "/home/ec2-user/SageMaker/git/data_challenge/Data-Challenge-Starter-Kit/altedc.py:260: FutureWarning: Series.dt.weekofyear and Series.dt.week have been deprecated.  Please use Series.dt.isocalendar().week instead.\n",
      "  df_copy_val['wk']=df_copy_val.date.dt.week\n",
      "/home/ec2-user/SageMaker/git/data_challenge/Data-Challenge-Starter-Kit/altedc.py:326: FutureWarning: Series.dt.weekofyear and Series.dt.week have been deprecated.  Please use Series.dt.isocalendar().week instead.\n",
      "  wavh_val=df_copy_val.groupby([df_copy_val['date'].dt.week])['vh'].mean().to_dict()\n",
      "/home/ec2-user/SageMaker/git/data_challenge/Data-Challenge-Starter-Kit/altedc.py:327: FutureWarning: Series.dt.weekofyear and Series.dt.week have been deprecated.  Please use Series.dt.isocalendar().week instead.\n",
      "  df_copy_val['wavh']=df_copy_val['date'].dt.week.replace(wavh_val)\n",
      "/home/ec2-user/SageMaker/git/data_challenge/Data-Challenge-Starter-Kit/altedc.py:334: FutureWarning: Series.dt.weekofyear and Series.dt.week have been deprecated.  Please use Series.dt.isocalendar().week instead.\n",
      "  waws_copy_val=df_copy_val.groupby([df_copy_val['date'].dt.week])['ws'].mean().to_dict()\n",
      "/home/ec2-user/SageMaker/git/data_challenge/Data-Challenge-Starter-Kit/altedc.py:335: FutureWarning: Series.dt.weekofyear and Series.dt.week have been deprecated.  Please use Series.dt.isocalendar().week instead.\n",
      "  df_copy_val['waws']=df_copy_val['date'].dt.week.replace(waws_copy_val)\n",
      "/home/ec2-user/SageMaker/git/data_challenge/Data-Challenge-Starter-Kit/altedc.py:455: FutureWarning: Series.dt.weekofyear and Series.dt.week have been deprecated.  Please use Series.dt.isocalendar().week instead.\n",
      "  df_copy_test['wk']=df_copy_test.date.dt.week\n",
      "/home/ec2-user/SageMaker/git/data_challenge/Data-Challenge-Starter-Kit/altedc.py:522: FutureWarning: Series.dt.weekofyear and Series.dt.week have been deprecated.  Please use Series.dt.isocalendar().week instead.\n",
      "  wavh_test=df_copy_test.groupby([df_copy_test['date'].dt.week])['vh'].mean().to_dict()\n",
      "/home/ec2-user/SageMaker/git/data_challenge/Data-Challenge-Starter-Kit/altedc.py:523: FutureWarning: Series.dt.weekofyear and Series.dt.week have been deprecated.  Please use Series.dt.isocalendar().week instead.\n",
      "  df_copy_test['wavh']=df_copy_test['date'].dt.week.replace(wavh_test)\n",
      "/home/ec2-user/SageMaker/git/data_challenge/Data-Challenge-Starter-Kit/altedc.py:530: FutureWarning: Series.dt.weekofyear and Series.dt.week have been deprecated.  Please use Series.dt.isocalendar().week instead.\n",
      "  waws_copy_test=df_copy_test.groupby([df_copy_test['date'].dt.week])['ws'].mean().to_dict()\n",
      "/home/ec2-user/SageMaker/git/data_challenge/Data-Challenge-Starter-Kit/altedc.py:531: FutureWarning: Series.dt.weekofyear and Series.dt.week have been deprecated.  Please use Series.dt.isocalendar().week instead.\n",
      "  df_copy_test['waws']=df_copy_test['date'].dt.week.replace(waws_copy_test)\n"
     ]
    }
   ],
   "source": [
    "#make new features\n",
    "df_copy = altedc.create_features_train(train)\n",
    "df_copy_val = altedc.create_features_val(val)\n",
    "df_copy_test = altedc.create_features_test(test)"
   ]
  },
  {
   "cell_type": "code",
   "execution_count": 13,
   "id": "ba8ada72",
   "metadata": {},
   "outputs": [],
   "source": [
    "cols=['u', 'v', 'ws', 'wd', 'wva', 'mwd', 'vh', 'hr', 'mo', 'dy', 'wk', 'qr', 'doy', 'dow', 'yr', 'u_z', 'v_z', 'ws_z', 'wd_z', 'wsq', 'wdc', 'wvac', 'mwdc','rwd', 'u*v',  'wsr', 'ws100m', 'ws3', 'wpe','pa','vh3','daws','davh','year_sin','year_cos','month_sin', 'month_cos', 'quarter_sin', 'quarter_cos','semester_sin',\n",
    "       'semester_cos', 'twowk_sin', 'twowk_cos', 'week_sin', 'week_cos', 'twomonth_sin', 'twomonth_cos', 'fourmonth_sin',\n",
    "       'fourmonth_cos', 'fivemonth_sin', 'fivemonth_cos',\n",
    "       'sevenmonth_sin', 'sevenmonth_cos', 'ninemonth_sin', 'ninemonth_cos', 'thirteenmonth_cos', 'elevenmonth_cos','fivemonth_sin','sevenmonth_sin', 'sixteenmonth_cos','ti','vhi','uv_dir', 'wswdsin','wswdcos','twoday_sin','twoday_cos','tid','gust','dmws',#'wd_ns','wd_ew','wd_avg' ,'wsh_max','vhi_max','ws_diff','vhi_diff','ti_diff' #,'hmws' #, 'tiv', #'vhiv'#'gusti'#,'dwd', 'dti','pai','dvh','dpa'\n",
    "     # 'pai','vhpa'\n",
    "  \n",
    "     ] # 'vhpa' ,'vhid','paid', 'pai', 'haws', 'dmvh','dpa'"
   ]
  },
  {
   "cell_type": "code",
   "execution_count": 14,
   "id": "e9ee1d00",
   "metadata": {},
   "outputs": [
    {
     "data": {
      "text/plain": [
       "70"
      ]
     },
     "execution_count": 14,
     "metadata": {},
     "output_type": "execute_result"
    }
   ],
   "source": [
    "len(cols)"
   ]
  },
  {
   "cell_type": "code",
   "execution_count": 14,
   "id": "22f33689",
   "metadata": {},
   "outputs": [
    {
     "name": "stdout",
     "output_type": "stream",
     "text": [
      "0.06768425596517569\n"
     ]
    }
   ],
   "source": [
    "#Try RF on additional features\n",
    "from sklearn.ensemble import RandomForestRegressor\n",
    "X_train = df_copy[cols].values #'wva', 'mwd',\n",
    "y_train = df_copy['wp1'].values\n",
    "\n",
    "X_val = df_copy_val[cols].values #'wva', 'mwd',\n",
    "y_val = df_copy_val['wp1'].values\n",
    "\n",
    "rf = RandomForestRegressor(bootstrap=False, max_depth=25, max_features=12,\n",
    "                      n_estimators=2000, n_jobs=-1)\n",
    "rf.fit(X_train, y_train)\n",
    "print(mean_absolute_error(rf.predict(X_val), y_val)) #min_samples_split =2, min_samples_leaf =1, max_depth=20, max_features=10, 0.06642867238363016, \n",
    "# 0.06682952159550563 0.06961529322707194 0.06871897093902136 bootstrap false, max depth 25, max features 12, n_estimators 2000"
   ]
  },
  {
   "cell_type": "code",
   "execution_count": 14,
   "id": "cf2333c2",
   "metadata": {},
   "outputs": [
    {
     "data": {
      "text/html": [
       "<div>\n",
       "<style scoped>\n",
       "    .dataframe tbody tr th:only-of-type {\n",
       "        vertical-align: middle;\n",
       "    }\n",
       "\n",
       "    .dataframe tbody tr th {\n",
       "        vertical-align: top;\n",
       "    }\n",
       "\n",
       "    .dataframe thead th {\n",
       "        text-align: right;\n",
       "    }\n",
       "</style>\n",
       "<table border=\"1\" class=\"dataframe\">\n",
       "  <thead>\n",
       "    <tr style=\"text-align: right;\">\n",
       "      <th></th>\n",
       "      <th>date</th>\n",
       "      <th>wp1</th>\n",
       "    </tr>\n",
       "  </thead>\n",
       "  <tbody>\n",
       "    <tr>\n",
       "      <th>0</th>\n",
       "      <td>2011-01-01 01:00:00</td>\n",
       "      <td>0.507778</td>\n",
       "    </tr>\n",
       "    <tr>\n",
       "      <th>1</th>\n",
       "      <td>2011-01-01 02:00:00</td>\n",
       "      <td>0.424686</td>\n",
       "    </tr>\n",
       "    <tr>\n",
       "      <th>2</th>\n",
       "      <td>2011-01-01 03:00:00</td>\n",
       "      <td>0.425287</td>\n",
       "    </tr>\n",
       "    <tr>\n",
       "      <th>3</th>\n",
       "      <td>2011-01-01 04:00:00</td>\n",
       "      <td>0.426112</td>\n",
       "    </tr>\n",
       "    <tr>\n",
       "      <th>4</th>\n",
       "      <td>2011-01-01 05:00:00</td>\n",
       "      <td>0.427032</td>\n",
       "    </tr>\n",
       "  </tbody>\n",
       "</table>\n",
       "</div>"
      ],
      "text/plain": [
       "                 date       wp1\n",
       "0 2011-01-01 01:00:00  0.507778\n",
       "1 2011-01-01 02:00:00  0.424686\n",
       "2 2011-01-01 03:00:00  0.425287\n",
       "3 2011-01-01 04:00:00  0.426112\n",
       "4 2011-01-01 05:00:00  0.427032"
      ]
     },
     "execution_count": 14,
     "metadata": {},
     "output_type": "execute_result"
    }
   ],
   "source": [
    "#predictions on test set with RF and additional features\n",
    "X_test = df_copy_test[cols].values\n",
    "\n",
    "df_predictions = pd.DataFrame({\n",
    "    'date': df_copy_test['date'],\n",
    "    'wp1': rf.predict(X_test),\n",
    "})\n",
    "\n",
    "df_predictions.to_csv(r'predictions.csv', index=False, sep=';')\n",
    "df_predictions.head()"
   ]
  },
  {
   "cell_type": "code",
   "execution_count": 15,
   "id": "444f2618",
   "metadata": {},
   "outputs": [
    {
     "name": "stdout",
     "output_type": "stream",
     "text": [
      "Collecting xgboost\n",
      "  Downloading xgboost-1.4.2-py3-none-manylinux2010_x86_64.whl (166.7 MB)\n",
      "\u001b[K     |████████████████████████████████| 166.7 MB 22 kB/s s eta 0:00:01\n",
      "\u001b[?25hRequirement already satisfied: numpy in /home/ec2-user/anaconda3/envs/python3/lib/python3.6/site-packages (from xgboost) (1.19.5)\n",
      "Requirement already satisfied: scipy in /home/ec2-user/anaconda3/envs/python3/lib/python3.6/site-packages (from xgboost) (1.5.3)\n",
      "Installing collected packages: xgboost\n",
      "Successfully installed xgboost-1.4.2\n"
     ]
    }
   ],
   "source": [
    "!pip3 install xgboost"
   ]
  },
  {
   "cell_type": "code",
   "execution_count": 16,
   "id": "bc858cd9",
   "metadata": {},
   "outputs": [
    {
     "name": "stdout",
     "output_type": "stream",
     "text": [
      "0.07290120074089664\n"
     ]
    }
   ],
   "source": [
    "import xgboost as xgb\n",
    "X_train = df_copy[cols].values #'wva', 'mwd',,'u*v','rwd'\n",
    "y_train = df_copy['wp1'].values\n",
    "\n",
    "X_val = df_copy_val[cols].values #'wva', 'mwd',,'u*v','rwd'\n",
    "y_val = df_copy_val['wp1'].values\n",
    "\n",
    "xgb = xgb.XGBRegressor(random_state=0)\n",
    "xgb.fit(X_train, y_train)\n",
    "print(mean_absolute_error(xgb.predict(X_val), y_val))"
   ]
  },
  {
   "cell_type": "code",
   "execution_count": 17,
   "id": "adb8e412",
   "metadata": {},
   "outputs": [
    {
     "name": "stdout",
     "output_type": "stream",
     "text": [
      "Requirement already satisfied: lightgbm in /home/ec2-user/anaconda3/envs/python3/lib/python3.6/site-packages (3.2.1)\n",
      "Requirement already satisfied: scikit-learn!=0.22.0 in /home/ec2-user/anaconda3/envs/python3/lib/python3.6/site-packages (from lightgbm) (0.24.1)\n",
      "Requirement already satisfied: scipy in /home/ec2-user/anaconda3/envs/python3/lib/python3.6/site-packages (from lightgbm) (1.5.3)\n",
      "Requirement already satisfied: numpy in /home/ec2-user/anaconda3/envs/python3/lib/python3.6/site-packages (from lightgbm) (1.19.5)\n",
      "Requirement already satisfied: wheel in /home/ec2-user/anaconda3/envs/python3/lib/python3.6/site-packages (from lightgbm) (0.36.2)\n",
      "Requirement already satisfied: threadpoolctl>=2.0.0 in /home/ec2-user/anaconda3/envs/python3/lib/python3.6/site-packages (from scikit-learn!=0.22.0->lightgbm) (2.1.0)\n",
      "Requirement already satisfied: joblib>=0.11 in /home/ec2-user/anaconda3/envs/python3/lib/python3.6/site-packages (from scikit-learn!=0.22.0->lightgbm) (1.0.1)\n"
     ]
    }
   ],
   "source": [
    "!pip install lightgbm"
   ]
  },
  {
   "cell_type": "code",
   "execution_count": 18,
   "id": "89794bb3",
   "metadata": {},
   "outputs": [
    {
     "name": "stderr",
     "output_type": "stream",
     "text": [
      "/home/ec2-user/anaconda3/envs/python3/lib/python3.6/site-packages/lightgbm/engine.py:148: UserWarning: Found `num_iterations` in params. Will use it instead of argument\n",
      "  _log_warning(\"Found `{}` in params. Will use it instead of argument\".format(alias))\n"
     ]
    },
    {
     "name": "stdout",
     "output_type": "stream",
     "text": [
      "[LightGBM] [Warning] feature_fraction is set=0.6, colsample_bytree=1.0 will be ignored. Current value: feature_fraction=0.6\n",
      "[LightGBM] [Warning] min_data_in_leaf is set=100, min_child_samples=20 will be ignored. Current value: min_data_in_leaf=100\n",
      "[LightGBM] [Warning] min_sum_hessian_in_leaf is set=10, min_child_weight=0.001 will be ignored. Current value: min_sum_hessian_in_leaf=10\n",
      "0.06820459544684371\n"
     ]
    }
   ],
   "source": [
    "import lightgbm as lgb\n",
    "X_train = df_copy[cols].values #'wva', 'mwd',\n",
    "y_train = df_copy['wp1'].values\n",
    "\n",
    "X_val = df_copy_val[cols].values #'wva', 'mwd',\n",
    "y_val = df_copy_val['wp1'].values\n",
    "\n",
    "lgbm = lgb.LGBMRegressor(objective=\"tweedie\",max_depth=15,num_leaves=80,num_iterations=2500,learning_rate=0.01,min_data_in_leaf=100, min_sum_hessian_in_leaf=10, feature_fraction=0.6)\n",
    "lgbm.fit(X_train, y_train)\n",
    "print(mean_absolute_error(lgbm.predict(X_val), y_val))"
   ]
  },
  {
   "cell_type": "code",
   "execution_count": 19,
   "id": "e6c50b89",
   "metadata": {},
   "outputs": [
    {
     "name": "stdout",
     "output_type": "stream",
     "text": [
      "0.07716929997334773\n"
     ]
    }
   ],
   "source": [
    "#bagging regressor\n",
    "from sklearn.ensemble import BaggingRegressor\n",
    "\n",
    "X_train = df_copy[cols].values #'wva', 'mwd',,'u*v','rwd'\n",
    "y_train = df_copy['wp1'].values\n",
    "\n",
    "X_val = df_copy_val[cols].values #'wva', 'mwd',,'u*v','rwd'\n",
    "y_val = df_copy_val['wp1'].values\n",
    "\n",
    "br = BaggingRegressor(random_state=0,bootstrap=False, n_estimators=2000, max_features=25, max_samples=0.5)\n",
    "br.fit(X_train, y_train)\n",
    "print(mean_absolute_error(br.predict(X_val), y_val))"
   ]
  },
  {
   "cell_type": "code",
   "execution_count": null,
   "id": "65e71dd2",
   "metadata": {},
   "outputs": [],
   "source": [
    "#RF feature importances\n",
    "rf.feature_importances_"
   ]
  },
  {
   "cell_type": "code",
   "execution_count": 15,
   "id": "c9070123",
   "metadata": {},
   "outputs": [
    {
     "data": {
      "text/plain": [
       "Text(0.5, 0, 'Random Forest Feature Importance')"
      ]
     },
     "execution_count": 15,
     "metadata": {},
     "output_type": "execute_result"
    },
    {
     "data": {
      "image/png": "[encoded data removed]",
      "text/plain": [
       "<Figure size 864x2160 with 1 Axes>"
      ]
     },
     "metadata": {
      "needs_background": "light"
     },
     "output_type": "display_data"
    }
   ],
   "source": [
    "plt.rcParams.update({'figure.figsize': (12,30)})\n",
    "sorted_idx = rf.feature_importances_.argsort()\n",
    "plt.barh(df_copy[cols].columns[sorted_idx], rf.feature_importances_[sorted_idx])\n",
    "plt.xlabel(\"Random Forest Feature Importance\")"
   ]
  },
  {
   "cell_type": "code",
   "execution_count": 16,
   "id": "79b8bc28",
   "metadata": {},
   "outputs": [
    {
     "name": "stdout",
     "output_type": "stream",
     "text": [
      "Requirement already satisfied: pip in /home/ec2-user/anaconda3/envs/python3/lib/python3.6/site-packages (21.0.1)\n",
      "Collecting pip\n",
      "  Downloading pip-21.1.3-py3-none-any.whl (1.5 MB)\n",
      "\u001b[K     |████████████████████████████████| 1.5 MB 23.4 MB/s eta 0:00:01\n",
      "\u001b[?25hInstalling collected packages: pip\n",
      "  Attempting uninstall: pip\n",
      "    Found existing installation: pip 21.0.1\n",
      "    Uninstalling pip-21.0.1:\n",
      "      Successfully uninstalled pip-21.0.1\n",
      "Successfully installed pip-21.1.3\n",
      "Requirement already satisfied: numpy in /home/ec2-user/anaconda3/envs/python3/lib/python3.6/site-packages (1.19.5)\n",
      "Requirement already satisfied: pandas in /home/ec2-user/anaconda3/envs/python3/lib/python3.6/site-packages (1.1.5)\n",
      "Requirement already satisfied: python-dateutil>=2.7.3 in /home/ec2-user/anaconda3/envs/python3/lib/python3.6/site-packages (from pandas) (2.8.1)\n",
      "Requirement already satisfied: pytz>=2017.2 in /home/ec2-user/anaconda3/envs/python3/lib/python3.6/site-packages (from pandas) (2021.1)\n",
      "Requirement already satisfied: numpy>=1.15.4 in /home/ec2-user/anaconda3/envs/python3/lib/python3.6/site-packages (from pandas) (1.19.5)\n",
      "Requirement already satisfied: six>=1.5 in /home/ec2-user/anaconda3/envs/python3/lib/python3.6/site-packages (from python-dateutil>=2.7.3->pandas) (1.15.0)\n",
      "Requirement already satisfied: matplotlib in /home/ec2-user/anaconda3/envs/python3/lib/python3.6/site-packages (3.3.4)\n",
      "Requirement already satisfied: python-dateutil>=2.1 in /home/ec2-user/anaconda3/envs/python3/lib/python3.6/site-packages (from matplotlib) (2.8.1)\n",
      "Requirement already satisfied: cycler>=0.10 in /home/ec2-user/anaconda3/envs/python3/lib/python3.6/site-packages (from matplotlib) (0.10.0)\n",
      "Requirement already satisfied: kiwisolver>=1.0.1 in /home/ec2-user/anaconda3/envs/python3/lib/python3.6/site-packages (from matplotlib) (1.3.1)\n",
      "Requirement already satisfied: pyparsing!=2.0.4,!=2.1.2,!=2.1.6,>=2.0.3 in /home/ec2-user/anaconda3/envs/python3/lib/python3.6/site-packages (from matplotlib) (2.4.7)\n",
      "Requirement already satisfied: pillow>=6.2.0 in /home/ec2-user/anaconda3/envs/python3/lib/python3.6/site-packages (from matplotlib) (7.2.0)\n",
      "Requirement already satisfied: numpy>=1.15 in /home/ec2-user/anaconda3/envs/python3/lib/python3.6/site-packages (from matplotlib) (1.19.5)\n",
      "Requirement already satisfied: six in /home/ec2-user/anaconda3/envs/python3/lib/python3.6/site-packages (from cycler>=0.10->matplotlib) (1.15.0)\n",
      "Requirement already satisfied: scikit-learn in /home/ec2-user/anaconda3/envs/python3/lib/python3.6/site-packages (0.24.1)\n",
      "Requirement already satisfied: joblib>=0.11 in /home/ec2-user/anaconda3/envs/python3/lib/python3.6/site-packages (from scikit-learn) (1.0.1)\n",
      "Requirement already satisfied: numpy>=1.13.3 in /home/ec2-user/anaconda3/envs/python3/lib/python3.6/site-packages (from scikit-learn) (1.19.5)\n",
      "Requirement already satisfied: threadpoolctl>=2.0.0 in /home/ec2-user/anaconda3/envs/python3/lib/python3.6/site-packages (from scikit-learn) (2.1.0)\n",
      "Requirement already satisfied: scipy>=0.19.1 in /home/ec2-user/anaconda3/envs/python3/lib/python3.6/site-packages (from scikit-learn) (1.5.3)\n",
      "Collecting keras\n",
      "  Downloading Keras-2.4.3-py2.py3-none-any.whl (36 kB)\n",
      "Requirement already satisfied: pyyaml in /home/ec2-user/anaconda3/envs/python3/lib/python3.6/site-packages (from keras) (5.4.1)\n",
      "Requirement already satisfied: h5py in /home/ec2-user/anaconda3/envs/python3/lib/python3.6/site-packages (from keras) (3.1.0)\n",
      "Requirement already satisfied: numpy>=1.9.1 in /home/ec2-user/anaconda3/envs/python3/lib/python3.6/site-packages (from keras) (1.19.5)\n",
      "Requirement already satisfied: scipy>=0.14 in /home/ec2-user/anaconda3/envs/python3/lib/python3.6/site-packages (from keras) (1.5.3)\n",
      "Requirement already satisfied: cached-property in /home/ec2-user/anaconda3/envs/python3/lib/python3.6/site-packages (from h5py->keras) (1.5.1)\n",
      "Installing collected packages: keras\n",
      "Successfully installed keras-2.4.3\n",
      "Collecting tensorflow\n",
      "  Downloading tensorflow-2.5.0-cp36-cp36m-manylinux2010_x86_64.whl (454.3 MB)\n",
      "\u001b[K     |██████████████████████▋         | 321.5 MB 136.1 MB/s eta 0:00:01   |█▏                              | 16.7 MB 22.1 MB/s eta 0:00:20     |██████▎                         | 89.4 MB 22.1 MB/s eta 0:00:17     |███████████████▌                | 220.5 MB 78.8 MB/s eta 0:00:03"
     ]
    },
    {
     "name": "stderr",
     "output_type": "stream",
     "text": [
      "IOPub data rate exceeded.\n",
      "The notebook server will temporarily stop sending output\n",
      "to the client in order to avoid crashing it.\n",
      "To change this limit, set the config variable\n",
      "`--NotebookApp.iopub_data_rate_limit`.\n",
      "\n",
      "Current values:\n",
      "NotebookApp.iopub_data_rate_limit=1000000.0 (bytes/sec)\n",
      "NotebookApp.rate_limit_window=3.0 (secs)\n",
      "\n"
     ]
    },
    {
     "name": "stdout",
     "output_type": "stream",
     "text": [
      "\u001b[K     |████████████████████████████████| 454.3 MB 11 kB/s /s eta 0:00:01     |██████████████████████████████▌ | 433.0 MB 101.1 MB/s eta 0:00:01\n",
      "\u001b[?25hCollecting opt-einsum~=3.3.0\n",
      "  Downloading opt_einsum-3.3.0-py3-none-any.whl (65 kB)\n",
      "\u001b[K     |████████████████████████████████| 65 kB 5.9 MB/s s eta 0:00:01\n",
      "\u001b[?25hCollecting gast==0.4.0\n",
      "  Downloading gast-0.4.0-py3-none-any.whl (9.8 kB)\n",
      "Requirement already satisfied: typing-extensions~=3.7.4 in /home/ec2-user/anaconda3/envs/python3/lib/python3.6/site-packages (from tensorflow) (3.7.4.3)\n",
      "Collecting tensorboard~=2.5\n",
      "  Downloading tensorboard-2.5.0-py3-none-any.whl (6.0 MB)\n",
      "\u001b[K     |████████████████████████████████| 6.0 MB 62.5 MB/s eta 0:00:01\n",
      "\u001b[?25hRequirement already satisfied: numpy~=1.19.2 in /home/ec2-user/anaconda3/envs/python3/lib/python3.6/site-packages (from tensorflow) (1.19.5)\n",
      "Collecting flatbuffers~=1.12.0\n",
      "  Downloading flatbuffers-1.12-py2.py3-none-any.whl (15 kB)\n",
      "Collecting astunparse~=1.6.3\n",
      "  Downloading astunparse-1.6.3-py2.py3-none-any.whl (12 kB)\n",
      "Collecting keras-preprocessing~=1.1.2\n",
      "  Downloading Keras_Preprocessing-1.1.2-py2.py3-none-any.whl (42 kB)\n",
      "\u001b[K     |████████████████████████████████| 42 kB 2.1 MB/s  eta 0:00:01\n",
      "\u001b[?25hRequirement already satisfied: protobuf>=3.9.2 in /home/ec2-user/anaconda3/envs/python3/lib/python3.6/site-packages (from tensorflow) (3.15.2)\n",
      "Collecting grpcio~=1.34.0\n",
      "  Downloading grpcio-1.34.1-cp36-cp36m-manylinux2014_x86_64.whl (4.0 MB)\n",
      "\u001b[K     |████████████████████████████████| 4.0 MB 90.9 MB/s eta 0:00:01\n",
      "\u001b[?25hCollecting absl-py~=0.10\n",
      "  Downloading absl_py-0.13.0-py3-none-any.whl (132 kB)\n",
      "\u001b[K     |████████████████████████████████| 132 kB 86.8 MB/s eta 0:00:01\n",
      "\u001b[?25hCollecting keras-nightly~=2.5.0.dev\n",
      "  Downloading keras_nightly-2.5.0.dev2021032900-py2.py3-none-any.whl (1.2 MB)\n",
      "\u001b[K     |████████████████████████████████| 1.2 MB 75.1 MB/s eta 0:00:01\n",
      "\u001b[?25hRequirement already satisfied: six~=1.15.0 in /home/ec2-user/anaconda3/envs/python3/lib/python3.6/site-packages (from tensorflow) (1.15.0)\n",
      "Requirement already satisfied: h5py~=3.1.0 in /home/ec2-user/anaconda3/envs/python3/lib/python3.6/site-packages (from tensorflow) (3.1.0)\n",
      "Requirement already satisfied: wheel~=0.35 in /home/ec2-user/anaconda3/envs/python3/lib/python3.6/site-packages (from tensorflow) (0.36.2)\n",
      "Collecting tensorflow-estimator<2.6.0,>=2.5.0rc0\n",
      "  Downloading tensorflow_estimator-2.5.0-py2.py3-none-any.whl (462 kB)\n",
      "\u001b[K     |████████████████████████████████| 462 kB 93.8 MB/s eta 0:00:01\n",
      "\u001b[?25hRequirement already satisfied: google-pasta~=0.2 in /home/ec2-user/anaconda3/envs/python3/lib/python3.6/site-packages (from tensorflow) (0.2.0)\n",
      "Requirement already satisfied: wrapt~=1.12.1 in /home/ec2-user/anaconda3/envs/python3/lib/python3.6/site-packages (from tensorflow) (1.12.1)\n",
      "Collecting termcolor~=1.1.0\n",
      "  Downloading termcolor-1.1.0.tar.gz (3.9 kB)\n",
      "Requirement already satisfied: cached-property in /home/ec2-user/anaconda3/envs/python3/lib/python3.6/site-packages (from h5py~=3.1.0->tensorflow) (1.5.1)\n",
      "Collecting markdown>=2.6.8\n",
      "  Downloading Markdown-3.3.4-py3-none-any.whl (97 kB)\n",
      "\u001b[K     |████████████████████████████████| 97 kB 12.3 MB/s eta 0:00:01\n",
      "\u001b[?25hRequirement already satisfied: werkzeug>=0.11.15 in /home/ec2-user/anaconda3/envs/python3/lib/python3.6/site-packages (from tensorboard~=2.5->tensorflow) (1.0.1)\n",
      "Collecting tensorboard-plugin-wit>=1.6.0\n",
      "  Downloading tensorboard_plugin_wit-1.8.0-py3-none-any.whl (781 kB)\n",
      "\u001b[K     |████████████████████████████████| 781 kB 82.8 MB/s eta 0:00:01\n",
      "\u001b[?25hRequirement already satisfied: requests<3,>=2.21.0 in /home/ec2-user/anaconda3/envs/python3/lib/python3.6/site-packages (from tensorboard~=2.5->tensorflow) (2.25.1)\n",
      "Collecting google-auth<2,>=1.6.3\n",
      "  Downloading google_auth-1.32.0-py2.py3-none-any.whl (147 kB)\n",
      "\u001b[K     |████████████████████████████████| 147 kB 88.2 MB/s eta 0:00:01\n",
      "\u001b[?25hCollecting google-auth-oauthlib<0.5,>=0.4.1\n",
      "  Downloading google_auth_oauthlib-0.4.4-py2.py3-none-any.whl (18 kB)\n",
      "Requirement already satisfied: setuptools>=41.0.0 in /home/ec2-user/anaconda3/envs/python3/lib/python3.6/site-packages (from tensorboard~=2.5->tensorflow) (49.6.0.post20210108)\n",
      "Collecting tensorboard-data-server<0.7.0,>=0.6.0\n",
      "  Downloading tensorboard_data_server-0.6.1-py3-none-manylinux2010_x86_64.whl (4.9 MB)\n",
      "\u001b[K     |████████████████████████████████| 4.9 MB 105.3 MB/s eta 0:00:01\n",
      "\u001b[?25hCollecting cachetools<5.0,>=2.0.0\n",
      "  Downloading cachetools-4.2.2-py3-none-any.whl (11 kB)\n",
      "Requirement already satisfied: rsa<5,>=3.1.4 in /home/ec2-user/anaconda3/envs/python3/lib/python3.6/site-packages (from google-auth<2,>=1.6.3->tensorboard~=2.5->tensorflow) (4.7.2)\n",
      "Collecting pyasn1-modules>=0.2.1\n",
      "  Downloading pyasn1_modules-0.2.8-py2.py3-none-any.whl (155 kB)\n",
      "\u001b[K     |████████████████████████████████| 155 kB 67.5 MB/s eta 0:00:01\n",
      "\u001b[?25hCollecting requests-oauthlib>=0.7.0\n",
      "  Downloading requests_oauthlib-1.3.0-py2.py3-none-any.whl (23 kB)\n",
      "Requirement already satisfied: importlib-metadata in /home/ec2-user/anaconda3/envs/python3/lib/python3.6/site-packages (from markdown>=2.6.8->tensorboard~=2.5->tensorflow) (3.7.0)\n",
      "Requirement already satisfied: pyasn1<0.5.0,>=0.4.6 in /home/ec2-user/anaconda3/envs/python3/lib/python3.6/site-packages (from pyasn1-modules>=0.2.1->google-auth<2,>=1.6.3->tensorboard~=2.5->tensorflow) (0.4.8)\n",
      "Requirement already satisfied: chardet<5,>=3.0.2 in /home/ec2-user/anaconda3/envs/python3/lib/python3.6/site-packages (from requests<3,>=2.21.0->tensorboard~=2.5->tensorflow) (3.0.4)\n",
      "Requirement already satisfied: idna<3,>=2.5 in /home/ec2-user/anaconda3/envs/python3/lib/python3.6/site-packages (from requests<3,>=2.21.0->tensorboard~=2.5->tensorflow) (2.10)\n",
      "Requirement already satisfied: certifi>=2017.4.17 in /home/ec2-user/anaconda3/envs/python3/lib/python3.6/site-packages (from requests<3,>=2.21.0->tensorboard~=2.5->tensorflow) (2020.12.5)\n",
      "Requirement already satisfied: urllib3<1.27,>=1.21.1 in /home/ec2-user/anaconda3/envs/python3/lib/python3.6/site-packages (from requests<3,>=2.21.0->tensorboard~=2.5->tensorflow) (1.26.4)\n",
      "Collecting oauthlib>=3.0.0\n",
      "  Downloading oauthlib-3.1.1-py2.py3-none-any.whl (146 kB)\n",
      "\u001b[K     |████████████████████████████████| 146 kB 68.4 MB/s eta 0:00:01\n",
      "\u001b[?25hRequirement already satisfied: zipp>=0.5 in /home/ec2-user/anaconda3/envs/python3/lib/python3.6/site-packages (from importlib-metadata->markdown>=2.6.8->tensorboard~=2.5->tensorflow) (3.4.0)\n",
      "Building wheels for collected packages: termcolor\n",
      "  Building wheel for termcolor (setup.py) ... \u001b[?25ldone\n",
      "\u001b[?25h  Created wheel for termcolor: filename=termcolor-1.1.0-py3-none-any.whl size=4829 sha256=d2bc9e483055e1d2f9aad279e33c8a3e67690d6bd3385fe7ace9f04968c213b8\n",
      "  Stored in directory: /home/ec2-user/.cache/pip/wheels/93/2a/eb/e58dbcbc963549ee4f065ff80a59f274cc7210b6eab962acdc\n",
      "Successfully built termcolor\n",
      "Installing collected packages: pyasn1-modules, oauthlib, cachetools, requests-oauthlib, google-auth, tensorboard-plugin-wit, tensorboard-data-server, markdown, grpcio, google-auth-oauthlib, absl-py, termcolor, tensorflow-estimator, tensorboard, opt-einsum, keras-preprocessing, keras-nightly, gast, flatbuffers, astunparse, tensorflow\n",
      "Successfully installed absl-py-0.13.0 astunparse-1.6.3 cachetools-4.2.2 flatbuffers-1.12 gast-0.4.0 google-auth-1.32.0 google-auth-oauthlib-0.4.4 grpcio-1.34.1 keras-nightly-2.5.0.dev2021032900 keras-preprocessing-1.1.2 markdown-3.3.4 oauthlib-3.1.1 opt-einsum-3.3.0 pyasn1-modules-0.2.8 requests-oauthlib-1.3.0 tensorboard-2.5.0 tensorboard-data-server-0.6.1 tensorboard-plugin-wit-1.8.0 tensorflow-2.5.0 tensorflow-estimator-2.5.0 termcolor-1.1.0\n"
     ]
    }
   ],
   "source": [
    "!pip3 install --upgrade pip\n",
    "!pip3 install numpy\n",
    "!pip3 install pandas\n",
    "!pip3 install matplotlib\n",
    "!pip3 install scikit-learn\n",
    "!pip3 install keras\n",
    "!pip3 install tensorflow"
   ]
  },
  {
   "cell_type": "code",
   "execution_count": 14,
   "id": "7df8e343",
   "metadata": {},
   "outputs": [],
   "source": [
    "import sklearn\n",
    "from sklearn.preprocessing import MinMaxScaler\n",
    "from sklearn.metrics import mean_squared_error\n",
    "import os\n",
    "import tensorflow as tf\n",
    "import keras\n",
    "from keras.models import Input, Sequential, load_model, Model\n",
    "from keras.layers import Dense, LSTM, Dropout\n",
    "from keras.layers import Conv1D, Flatten, MaxPooling1D\n",
    "from keras.callbacks import EarlyStopping, ModelCheckpoint\n",
    "from numpy.random import seed\n",
    "seed(100)\n",
    "tf.random.set_seed(100)"
   ]
  },
  {
   "cell_type": "code",
   "execution_count": 15,
   "id": "1bb1a7e7",
   "metadata": {},
   "outputs": [],
   "source": [
    "df=data.copy()"
   ]
  },
  {
   "cell_type": "code",
   "execution_count": 16,
   "id": "1a60c9a7",
   "metadata": {},
   "outputs": [],
   "source": [
    "df_cols= df.columns.to_list()"
   ]
  },
  {
   "cell_type": "code",
   "execution_count": 17,
   "id": "26b76c43",
   "metadata": {},
   "outputs": [
    {
     "name": "stdout",
     "output_type": "stream",
     "text": [
      "Train \n",
      "          wp1     u     v    ws      wd\n",
      "0      0.085  2.34 -0.79  2.47  108.68\n",
      "1      0.020  2.18 -0.99  2.40  114.31\n",
      "2      0.060  2.20 -1.21  2.51  118.71\n",
      "3      0.045  2.35 -1.40  2.73  120.86\n",
      "4      0.035  2.53 -1.47  2.93  120.13\n",
      "...      ...   ...   ...   ...     ...\n",
      "15000  0.105 -1.38  2.52  2.88  331.25\n",
      "15001  0.160 -1.75  2.28  2.87  322.58\n",
      "15002  0.281 -1.96  2.41  3.11  320.92\n",
      "15003  0.381 -1.98  2.80  3.43  324.75\n",
      "15004  0.356 -1.69  3.30  3.70  332.90\n",
      "\n",
      "[15005 rows x 5 columns]\n",
      "Val \n",
      "          wp1     u     v    ws      wd\n",
      "15005  0.266 -0.97  3.77  3.89  345.62\n",
      "15006  0.306  0.23  4.10  4.11    3.26\n",
      "15007  0.311  1.68  4.24  4.56   21.61\n",
      "15008  0.271  3.05  4.13  5.14   36.45\n",
      "15009  0.231  4.11  3.80  5.60   47.25\n",
      "...      ...   ...   ...   ...     ...\n",
      "16876  0.852  4.01  4.67  6.15   40.67\n",
      "16877  0.822  3.96  4.69  6.14   40.18\n",
      "16878  0.832  3.80  4.35  5.78   41.13\n",
      "16879  0.747  3.56  3.82  5.22   42.93\n",
      "16880  0.687  3.24  3.31  4.63   44.35\n",
      "\n",
      "[1876 rows x 5 columns]\n",
      "Test \n",
      "          wp1     u     v    ws      wd\n",
      "16881  0.541  2.88  3.00  4.16   43.86\n",
      "16882  0.311  2.53  2.83  3.80   41.72\n",
      "16883  0.301  2.24  2.74  3.53   39.25\n",
      "16884  0.080 -1.01  1.28  1.63  321.69\n",
      "16885  0.115 -1.20  1.44  1.88  320.03\n",
      "...      ...   ...   ...   ...     ...\n",
      "18751  0.170  1.77 -1.52  2.34  130.63\n",
      "18752  0.211  1.93 -1.52  2.46  128.25\n",
      "18753  0.251  2.10 -1.73  2.72  129.58\n",
      "18754  0.301  2.21 -2.19  3.11  134.64\n",
      "18755  0.226  2.23 -2.90  3.66  142.36\n",
      "\n",
      "[1875 rows x 5 columns]\n"
     ]
    }
   ],
   "source": [
    "# Define the features that will be used for training\n",
    "train_columns = df_cols[1:]\n",
    "# Get only the train_columns part of pandas \n",
    "# Call split_data function  and print the shape of each set\n",
    "df_train, df_val, df_test = altedc.split_data(df[train_columns])\n",
    "print('Train \\n', df_train)\n",
    "print('Val \\n', df_val)\n",
    "print('Test \\n', df_test)"
   ]
  },
  {
   "cell_type": "code",
   "execution_count": 18,
   "id": "bd5bad85",
   "metadata": {},
   "outputs": [
    {
     "name": "stdout",
     "output_type": "stream",
     "text": [
      "Train data has shape (15005, 5)\n",
      "Validation data has shape (1876, 5)\n",
      "Test data has shape (1875, 5)\n"
     ]
    }
   ],
   "source": [
    "# Transform pandas to numpy arrays\n",
    "train_data = df_train.values\n",
    "val_data = df_val.values\n",
    "test_data = df_test.values\n",
    "\n",
    "print('Train data has shape', np.shape(train_data))\n",
    "print('Validation data has shape', np.shape(val_data))\n",
    "print('Test data has shape', np.shape(test_data))"
   ]
  },
  {
   "cell_type": "code",
   "execution_count": 19,
   "id": "caa7faee",
   "metadata": {},
   "outputs": [],
   "source": [
    "# Feature Scaling using Min-Max Scaler\n",
    "# Use fit_transform for train_data and transform for val, test data\n",
    "scaler = MinMaxScaler(feature_range = (0, 1))\n",
    "train_data = scaler.fit_transform(train_data)\n",
    "val_data = scaler.transform(val_data)\n",
    "test_data = scaler.transform(test_data)"
   ]
  },
  {
   "cell_type": "code",
   "execution_count": 20,
   "id": "d9192a80",
   "metadata": {},
   "outputs": [
    {
     "name": "stdout",
     "output_type": "stream",
     "text": [
      "X_train shape is  (14985, 20, 5)\n",
      "y_train shape is  (14985, 1)\n",
      "X_val shape is  (1856, 20, 5)\n",
      "y_val shape is  (1856, 1)\n",
      "X_test shape is  (1855, 20, 5)\n",
      "y_test shape is  (1855, 1)\n"
     ]
    }
   ],
   "source": [
    "# Set the desirable history for creating samples from the time-series\n",
    "seq_len = 20\n",
    "ahead = 1\n",
    "X_train, y_train = altedc.create_supervised_data(train_data, seq_len=seq_len, ahead=ahead)\n",
    "print('X_train shape is ', np.shape(X_train))\n",
    "print('y_train shape is ', np.shape(y_train))\n",
    "\n",
    "X_val, y_val = altedc.create_supervised_data(val_data, seq_len=seq_len, ahead=ahead)\n",
    "print('X_val shape is ', np.shape(X_val))\n",
    "print('y_val shape is ', np.shape(y_val))\n",
    "\n",
    "X_test, y_test = altedc.create_supervised_data(test_data, seq_len=seq_len, ahead=ahead)\n",
    "print('X_test shape is ', np.shape(X_test))\n",
    "print('y_test shape is ', np.shape(y_test))"
   ]
  },
  {
   "cell_type": "code",
   "execution_count": 21,
   "id": "7e12faba",
   "metadata": {},
   "outputs": [],
   "source": [
    "keras.backend.clear_session()\n",
    "seed(100)\n",
    "tf.random.set_seed(100)"
   ]
  },
  {
   "cell_type": "code",
   "execution_count": 22,
   "id": "47cee5e4",
   "metadata": {},
   "outputs": [
    {
     "name": "stdout",
     "output_type": "stream",
     "text": [
      "Model: \"sequential\"\n",
      "_________________________________________________________________\n",
      "Layer (type)                 Output Shape              Param #   \n",
      "=================================================================\n",
      "lstm (LSTM)                  (None, 50)                11200     \n",
      "_________________________________________________________________\n",
      "dropout (Dropout)            (None, 50)                0         \n",
      "_________________________________________________________________\n",
      "dense (Dense)                (None, 1)                 51        \n",
      "=================================================================\n",
      "Total params: 11,251\n",
      "Trainable params: 11,251\n",
      "Non-trainable params: 0\n",
      "_________________________________________________________________\n"
     ]
    }
   ],
   "source": [
    "model = altedc.create_model(np.shape(X_train)[1], np.shape(X_train)[2])\n",
    "model.summary()"
   ]
  },
  {
   "cell_type": "code",
   "execution_count": 23,
   "id": "d6c7deda",
   "metadata": {},
   "outputs": [
    {
     "name": "stdout",
     "output_type": "stream",
     "text": [
      "Epoch 1/100\n",
      "469/469 [==============================] - 17s 9ms/step - loss: 0.0323 - mean_absolute_error: 0.1632 - val_loss: 0.0125 - val_mean_absolute_error: 0.0986\n",
      "Epoch 2/100\n",
      "469/469 [==============================] - 4s 8ms/step - loss: 0.0103 - mean_absolute_error: 0.0937 - val_loss: 0.0093 - val_mean_absolute_error: 0.0834\n",
      "Epoch 3/100\n",
      "469/469 [==============================] - 4s 8ms/step - loss: 0.0076 - mean_absolute_error: 0.0810 - val_loss: 0.0083 - val_mean_absolute_error: 0.0757\n",
      "Epoch 4/100\n",
      "469/469 [==============================] - 4s 8ms/step - loss: 0.0068 - mean_absolute_error: 0.0743 - val_loss: 0.0081 - val_mean_absolute_error: 0.0710\n",
      "Epoch 5/100\n",
      "469/469 [==============================] - 4s 8ms/step - loss: 0.0063 - mean_absolute_error: 0.0701 - val_loss: 0.0085 - val_mean_absolute_error: 0.0679\n",
      "Epoch 6/100\n",
      "469/469 [==============================] - 4s 8ms/step - loss: 0.0063 - mean_absolute_error: 0.0673 - val_loss: 0.0080 - val_mean_absolute_error: 0.0659\n",
      "Epoch 7/100\n",
      "469/469 [==============================] - 4s 8ms/step - loss: 0.0062 - mean_absolute_error: 0.0654 - val_loss: 0.0081 - val_mean_absolute_error: 0.0643\n",
      "Epoch 8/100\n",
      "469/469 [==============================] - 4s 8ms/step - loss: 0.0062 - mean_absolute_error: 0.0640 - val_loss: 0.0081 - val_mean_absolute_error: 0.0631\n",
      "Epoch 9/100\n",
      "469/469 [==============================] - 4s 8ms/step - loss: 0.0062 - mean_absolute_error: 0.0629 - val_loss: 0.0082 - val_mean_absolute_error: 0.0621\n",
      "Epoch 10/100\n",
      "469/469 [==============================] - 4s 8ms/step - loss: 0.0061 - mean_absolute_error: 0.0620 - val_loss: 0.0081 - val_mean_absolute_error: 0.0614\n",
      "Epoch 11/100\n",
      "469/469 [==============================] - 4s 8ms/step - loss: 0.0061 - mean_absolute_error: 0.0612 - val_loss: 0.0080 - val_mean_absolute_error: 0.0607\n",
      "Epoch 12/100\n",
      "469/469 [==============================] - 4s 8ms/step - loss: 0.0059 - mean_absolute_error: 0.0606 - val_loss: 0.0085 - val_mean_absolute_error: 0.0602\n",
      "Epoch 13/100\n",
      "469/469 [==============================] - 4s 8ms/step - loss: 0.0060 - mean_absolute_error: 0.0601 - val_loss: 0.0081 - val_mean_absolute_error: 0.0597\n",
      "Epoch 14/100\n",
      "469/469 [==============================] - 4s 8ms/step - loss: 0.0060 - mean_absolute_error: 0.0596 - val_loss: 0.0084 - val_mean_absolute_error: 0.0593\n",
      "Epoch 15/100\n",
      "469/469 [==============================] - 4s 8ms/step - loss: 0.0058 - mean_absolute_error: 0.0592 - val_loss: 0.0082 - val_mean_absolute_error: 0.0589\n",
      "Epoch 16/100\n",
      "469/469 [==============================] - 4s 8ms/step - loss: 0.0058 - mean_absolute_error: 0.0588 - val_loss: 0.0081 - val_mean_absolute_error: 0.0586\n",
      "Epoch 17/100\n",
      "469/469 [==============================] - 4s 8ms/step - loss: 0.0060 - mean_absolute_error: 0.0585 - val_loss: 0.0082 - val_mean_absolute_error: 0.0583\n",
      "Epoch 18/100\n",
      "469/469 [==============================] - 4s 8ms/step - loss: 0.0060 - mean_absolute_error: 0.0582 - val_loss: 0.0082 - val_mean_absolute_error: 0.0580\n",
      "Epoch 19/100\n",
      "469/469 [==============================] - 4s 8ms/step - loss: 0.0061 - mean_absolute_error: 0.0580 - val_loss: 0.0081 - val_mean_absolute_error: 0.0577\n",
      "Epoch 20/100\n",
      "469/469 [==============================] - 4s 8ms/step - loss: 0.0060 - mean_absolute_error: 0.0577 - val_loss: 0.0083 - val_mean_absolute_error: 0.0575\n",
      "Epoch 21/100\n",
      "469/469 [==============================] - 4s 8ms/step - loss: 0.0058 - mean_absolute_error: 0.0575 - val_loss: 0.0083 - val_mean_absolute_error: 0.0573\n"
     ]
    }
   ],
   "source": [
    "history = altedc.compile_and_fit(model, X_train, y_train, X_val, y_val, patience=10)"
   ]
  },
  {
   "cell_type": "code",
   "execution_count": 25,
   "id": "f5d40aa1",
   "metadata": {},
   "outputs": [],
   "source": [
    "def print_metrics_model(X_train, y_train, X_val, y_val, X_test, y_test):\n",
    "    print('Evaluation metrics')\n",
    "    print(\n",
    "        'Training Data - MSE Loss: {:.8f}, MAE Loss: {:.8f}'.format(\n",
    "                                                    model.evaluate(X_train, y_train, verbose=0)[0], \n",
    "                                                    model.evaluate(X_train, y_train, verbose=0)[1]))\n",
    "    print(\n",
    "        'Validation Data - MSE Loss: {:.8f}, MAE Loss: {:.8f}'.format(\n",
    "                                                    model.evaluate(X_val, y_val, verbose=0)[0],\n",
    "                                                    model.evaluate(X_val, y_val, verbose=0)[1]))\n",
    "    print(\n",
    "        'Test Data - MSE Loss: {:.8f}, MAE Loss: {:.8f}'.format(\n",
    "                                                    model.evaluate(X_test, y_test, verbose=0)[0],\n",
    "                                                    model.evaluate(X_test, y_test, verbose=0)[1]))\n",
    "    return"
   ]
  },
  {
   "cell_type": "code",
   "execution_count": 26,
   "id": "22cfe115",
   "metadata": {},
   "outputs": [
    {
     "data": {
      "image/png": "[encoded data removed]",
      "text/plain": [
       "<Figure size 432x288 with 1 Axes>"
      ]
     },
     "metadata": {
      "needs_background": "light"
     },
     "output_type": "display_data"
    },
    {
     "name": "stdout",
     "output_type": "stream",
     "text": [
      "Evaluation metrics\n",
      "Training Data - MSE Loss: 0.00535815, MAE Loss: 0.05681929\n",
      "Validation Data - MSE Loss: 0.00825417, MAE Loss: 0.05667001\n",
      "Test Data - MSE Loss: 0.01056470, MAE Loss: 0.05674267\n"
     ]
    }
   ],
   "source": [
    "altedc.plot_loss(history)\n",
    "print_metrics_model(X_train, y_train, X_val, y_val, X_test, y_test)"
   ]
  },
  {
   "cell_type": "code",
   "execution_count": 27,
   "id": "110684f2",
   "metadata": {},
   "outputs": [
    {
     "name": "stdout",
     "output_type": "stream",
     "text": [
      "(1855, 1)\n"
     ]
    },
    {
     "data": {
      "image/png": "[encoded data removed]",
      "text/plain": [
       "<Figure size 432x288 with 1 Axes>"
      ]
     },
     "metadata": {
      "needs_background": "light"
     },
     "output_type": "display_data"
    }
   ],
   "source": [
    "predictions = model.predict(X_test)\n",
    "print(predictions.shape)\n",
    "altedc.plot_predictions_test(y_test.squeeze(), predictions)"
   ]
  },
  {
   "cell_type": "code",
   "execution_count": 28,
   "id": "ca81512d",
   "metadata": {},
   "outputs": [
    {
     "name": "stdout",
     "output_type": "stream",
     "text": [
      "Real mse on test 0.010564701861848526\n"
     ]
    }
   ],
   "source": [
    "print('Real mse on test', mean_squared_error(y_test.squeeze(),predictions))"
   ]
  },
  {
   "cell_type": "code",
   "execution_count": 29,
   "id": "3eee32e1",
   "metadata": {},
   "outputs": [],
   "source": [
    "model.save('model.h5')"
   ]
  },
  {
   "cell_type": "code",
   "execution_count": null,
   "id": "7e000112",
   "metadata": {},
   "outputs": [],
   "source": []
  }
 ],
 "metadata": {
  "kernelspec": {
   "display_name": "conda_python3",
   "language": "python",
   "name": "conda_python3"
  },
  "language_info": {
   "codemirror_mode": {
    "name": "ipython",
    "version": 3
   },
   "file_extension": ".py",
   "mimetype": "text/x-python",
   "name": "python",
   "nbconvert_exporter": "python",
   "pygments_lexer": "ipython3",
   "version": "3.6.13"
  }
 },
 "nbformat": 4,
 "nbformat_minor": 5
}
